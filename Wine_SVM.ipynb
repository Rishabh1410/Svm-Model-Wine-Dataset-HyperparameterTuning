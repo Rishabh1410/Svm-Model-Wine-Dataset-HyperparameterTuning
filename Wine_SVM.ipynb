{
  "nbformat": 4,
  "nbformat_minor": 0,
  "metadata": {
    "colab": {
      "name": "Wine_SVM.ipynb",
      "provenance": [],
      "collapsed_sections": []
    },
    "kernelspec": {
      "name": "python3",
      "display_name": "Python 3"
    }
  },
  "cells": [
    {
      "cell_type": "code",
      "metadata": {
        "id": "nxssz26cpg_-",
        "colab_type": "code",
        "colab": {}
      },
      "source": [
        "from sklearn.datasets import load_wine"
      ],
      "execution_count": 0,
      "outputs": []
    },
    {
      "cell_type": "code",
      "metadata": {
        "id": "h0wa7k8wqHF0",
        "colab_type": "code",
        "colab": {}
      },
      "source": [
        "wine=load_wine()"
      ],
      "execution_count": 0,
      "outputs": []
    },
    {
      "cell_type": "code",
      "metadata": {
        "id": "UElsXbjkqKmy",
        "colab_type": "code",
        "outputId": "05daef8e-20ec-488e-a731-6bf9e41051d0",
        "colab": {
          "base_uri": "https://localhost:8080/",
          "height": 400
        }
      },
      "source": [
        "print(wine)"
      ],
      "execution_count": 0,
      "outputs": [
        {
          "output_type": "stream",
          "text": [
            "{'data': array([[1.423e+01, 1.710e+00, 2.430e+00, ..., 1.040e+00, 3.920e+00,\n",
            "        1.065e+03],\n",
            "       [1.320e+01, 1.780e+00, 2.140e+00, ..., 1.050e+00, 3.400e+00,\n",
            "        1.050e+03],\n",
            "       [1.316e+01, 2.360e+00, 2.670e+00, ..., 1.030e+00, 3.170e+00,\n",
            "        1.185e+03],\n",
            "       ...,\n",
            "       [1.327e+01, 4.280e+00, 2.260e+00, ..., 5.900e-01, 1.560e+00,\n",
            "        8.350e+02],\n",
            "       [1.317e+01, 2.590e+00, 2.370e+00, ..., 6.000e-01, 1.620e+00,\n",
            "        8.400e+02],\n",
            "       [1.413e+01, 4.100e+00, 2.740e+00, ..., 6.100e-01, 1.600e+00,\n",
            "        5.600e+02]]), 'target': array([0, 0, 0, 0, 0, 0, 0, 0, 0, 0, 0, 0, 0, 0, 0, 0, 0, 0, 0, 0, 0, 0,\n",
            "       0, 0, 0, 0, 0, 0, 0, 0, 0, 0, 0, 0, 0, 0, 0, 0, 0, 0, 0, 0, 0, 0,\n",
            "       0, 0, 0, 0, 0, 0, 0, 0, 0, 0, 0, 0, 0, 0, 0, 1, 1, 1, 1, 1, 1, 1,\n",
            "       1, 1, 1, 1, 1, 1, 1, 1, 1, 1, 1, 1, 1, 1, 1, 1, 1, 1, 1, 1, 1, 1,\n",
            "       1, 1, 1, 1, 1, 1, 1, 1, 1, 1, 1, 1, 1, 1, 1, 1, 1, 1, 1, 1, 1, 1,\n",
            "       1, 1, 1, 1, 1, 1, 1, 1, 1, 1, 1, 1, 1, 1, 1, 1, 1, 1, 1, 1, 2, 2,\n",
            "       2, 2, 2, 2, 2, 2, 2, 2, 2, 2, 2, 2, 2, 2, 2, 2, 2, 2, 2, 2, 2, 2,\n",
            "       2, 2, 2, 2, 2, 2, 2, 2, 2, 2, 2, 2, 2, 2, 2, 2, 2, 2, 2, 2, 2, 2,\n",
            "       2, 2]), 'target_names': array(['class_0', 'class_1', 'class_2'], dtype='<U7'), 'DESCR': '.. _wine_dataset:\\n\\nWine recognition dataset\\n------------------------\\n\\n**Data Set Characteristics:**\\n\\n    :Number of Instances: 178 (50 in each of three classes)\\n    :Number of Attributes: 13 numeric, predictive attributes and the class\\n    :Attribute Information:\\n \\t\\t- Alcohol\\n \\t\\t- Malic acid\\n \\t\\t- Ash\\n\\t\\t- Alcalinity of ash  \\n \\t\\t- Magnesium\\n\\t\\t- Total phenols\\n \\t\\t- Flavanoids\\n \\t\\t- Nonflavanoid phenols\\n \\t\\t- Proanthocyanins\\n\\t\\t- Color intensity\\n \\t\\t- Hue\\n \\t\\t- OD280/OD315 of diluted wines\\n \\t\\t- Proline\\n\\n    - class:\\n            - class_0\\n            - class_1\\n            - class_2\\n\\t\\t\\n    :Summary Statistics:\\n    \\n    ============================= ==== ===== ======= =====\\n                                   Min   Max   Mean     SD\\n    ============================= ==== ===== ======= =====\\n    Alcohol:                      11.0  14.8    13.0   0.8\\n    Malic Acid:                   0.74  5.80    2.34  1.12\\n    Ash:                          1.36  3.23    2.36  0.27\\n    Alcalinity of Ash:            10.6  30.0    19.5   3.3\\n    Magnesium:                    70.0 162.0    99.7  14.3\\n    Total Phenols:                0.98  3.88    2.29  0.63\\n    Flavanoids:                   0.34  5.08    2.03  1.00\\n    Nonflavanoid Phenols:         0.13  0.66    0.36  0.12\\n    Proanthocyanins:              0.41  3.58    1.59  0.57\\n    Colour Intensity:              1.3  13.0     5.1   2.3\\n    Hue:                          0.48  1.71    0.96  0.23\\n    OD280/OD315 of diluted wines: 1.27  4.00    2.61  0.71\\n    Proline:                       278  1680     746   315\\n    ============================= ==== ===== ======= =====\\n\\n    :Missing Attribute Values: None\\n    :Class Distribution: class_0 (59), class_1 (71), class_2 (48)\\n    :Creator: R.A. Fisher\\n    :Donor: Michael Marshall (MARSHALL%PLU@io.arc.nasa.gov)\\n    :Date: July, 1988\\n\\nThis is a copy of UCI ML Wine recognition datasets.\\nhttps://archive.ics.uci.edu/ml/machine-learning-databases/wine/wine.data\\n\\nThe data is the results of a chemical analysis of wines grown in the same\\nregion in Italy by three different cultivators. There are thirteen different\\nmeasurements taken for different constituents found in the three types of\\nwine.\\n\\nOriginal Owners: \\n\\nForina, M. et al, PARVUS - \\nAn Extendible Package for Data Exploration, Classification and Correlation. \\nInstitute of Pharmaceutical and Food Analysis and Technologies,\\nVia Brigata Salerno, 16147 Genoa, Italy.\\n\\nCitation:\\n\\nLichman, M. (2013). UCI Machine Learning Repository\\n[https://archive.ics.uci.edu/ml]. Irvine, CA: University of California,\\nSchool of Information and Computer Science. \\n\\n.. topic:: References\\n\\n  (1) S. Aeberhard, D. Coomans and O. de Vel, \\n  Comparison of Classifiers in High Dimensional Settings, \\n  Tech. Rep. no. 92-02, (1992), Dept. of Computer Science and Dept. of  \\n  Mathematics and Statistics, James Cook University of North Queensland. \\n  (Also submitted to Technometrics). \\n\\n  The data was used with many others for comparing various \\n  classifiers. The classes are separable, though only RDA \\n  has achieved 100% correct classification. \\n  (RDA : 100%, QDA 99.4%, LDA 98.9%, 1NN 96.1% (z-transformed data)) \\n  (All results using the leave-one-out technique) \\n\\n  (2) S. Aeberhard, D. Coomans and O. de Vel, \\n  \"THE CLASSIFICATION PERFORMANCE OF RDA\" \\n  Tech. Rep. no. 92-01, (1992), Dept. of Computer Science and Dept. of \\n  Mathematics and Statistics, James Cook University of North Queensland. \\n  (Also submitted to Journal of Chemometrics).\\n', 'feature_names': ['alcohol', 'malic_acid', 'ash', 'alcalinity_of_ash', 'magnesium', 'total_phenols', 'flavanoids', 'nonflavanoid_phenols', 'proanthocyanins', 'color_intensity', 'hue', 'od280/od315_of_diluted_wines', 'proline']}\n"
          ],
          "name": "stdout"
        }
      ]
    },
    {
      "cell_type": "code",
      "metadata": {
        "id": "Wr8BUscvqLim",
        "colab_type": "code",
        "outputId": "a84724d9-8143-4049-b866-68a7031f6a32",
        "colab": {
          "base_uri": "https://localhost:8080/",
          "height": 1000
        }
      },
      "source": [
        "print(wine.DESCR)"
      ],
      "execution_count": 0,
      "outputs": [
        {
          "output_type": "stream",
          "text": [
            ".. _wine_dataset:\n",
            "\n",
            "Wine recognition dataset\n",
            "------------------------\n",
            "\n",
            "**Data Set Characteristics:**\n",
            "\n",
            "    :Number of Instances: 178 (50 in each of three classes)\n",
            "    :Number of Attributes: 13 numeric, predictive attributes and the class\n",
            "    :Attribute Information:\n",
            " \t\t- Alcohol\n",
            " \t\t- Malic acid\n",
            " \t\t- Ash\n",
            "\t\t- Alcalinity of ash  \n",
            " \t\t- Magnesium\n",
            "\t\t- Total phenols\n",
            " \t\t- Flavanoids\n",
            " \t\t- Nonflavanoid phenols\n",
            " \t\t- Proanthocyanins\n",
            "\t\t- Color intensity\n",
            " \t\t- Hue\n",
            " \t\t- OD280/OD315 of diluted wines\n",
            " \t\t- Proline\n",
            "\n",
            "    - class:\n",
            "            - class_0\n",
            "            - class_1\n",
            "            - class_2\n",
            "\t\t\n",
            "    :Summary Statistics:\n",
            "    \n",
            "    ============================= ==== ===== ======= =====\n",
            "                                   Min   Max   Mean     SD\n",
            "    ============================= ==== ===== ======= =====\n",
            "    Alcohol:                      11.0  14.8    13.0   0.8\n",
            "    Malic Acid:                   0.74  5.80    2.34  1.12\n",
            "    Ash:                          1.36  3.23    2.36  0.27\n",
            "    Alcalinity of Ash:            10.6  30.0    19.5   3.3\n",
            "    Magnesium:                    70.0 162.0    99.7  14.3\n",
            "    Total Phenols:                0.98  3.88    2.29  0.63\n",
            "    Flavanoids:                   0.34  5.08    2.03  1.00\n",
            "    Nonflavanoid Phenols:         0.13  0.66    0.36  0.12\n",
            "    Proanthocyanins:              0.41  3.58    1.59  0.57\n",
            "    Colour Intensity:              1.3  13.0     5.1   2.3\n",
            "    Hue:                          0.48  1.71    0.96  0.23\n",
            "    OD280/OD315 of diluted wines: 1.27  4.00    2.61  0.71\n",
            "    Proline:                       278  1680     746   315\n",
            "    ============================= ==== ===== ======= =====\n",
            "\n",
            "    :Missing Attribute Values: None\n",
            "    :Class Distribution: class_0 (59), class_1 (71), class_2 (48)\n",
            "    :Creator: R.A. Fisher\n",
            "    :Donor: Michael Marshall (MARSHALL%PLU@io.arc.nasa.gov)\n",
            "    :Date: July, 1988\n",
            "\n",
            "This is a copy of UCI ML Wine recognition datasets.\n",
            "https://archive.ics.uci.edu/ml/machine-learning-databases/wine/wine.data\n",
            "\n",
            "The data is the results of a chemical analysis of wines grown in the same\n",
            "region in Italy by three different cultivators. There are thirteen different\n",
            "measurements taken for different constituents found in the three types of\n",
            "wine.\n",
            "\n",
            "Original Owners: \n",
            "\n",
            "Forina, M. et al, PARVUS - \n",
            "An Extendible Package for Data Exploration, Classification and Correlation. \n",
            "Institute of Pharmaceutical and Food Analysis and Technologies,\n",
            "Via Brigata Salerno, 16147 Genoa, Italy.\n",
            "\n",
            "Citation:\n",
            "\n",
            "Lichman, M. (2013). UCI Machine Learning Repository\n",
            "[https://archive.ics.uci.edu/ml]. Irvine, CA: University of California,\n",
            "School of Information and Computer Science. \n",
            "\n",
            ".. topic:: References\n",
            "\n",
            "  (1) S. Aeberhard, D. Coomans and O. de Vel, \n",
            "  Comparison of Classifiers in High Dimensional Settings, \n",
            "  Tech. Rep. no. 92-02, (1992), Dept. of Computer Science and Dept. of  \n",
            "  Mathematics and Statistics, James Cook University of North Queensland. \n",
            "  (Also submitted to Technometrics). \n",
            "\n",
            "  The data was used with many others for comparing various \n",
            "  classifiers. The classes are separable, though only RDA \n",
            "  has achieved 100% correct classification. \n",
            "  (RDA : 100%, QDA 99.4%, LDA 98.9%, 1NN 96.1% (z-transformed data)) \n",
            "  (All results using the leave-one-out technique) \n",
            "\n",
            "  (2) S. Aeberhard, D. Coomans and O. de Vel, \n",
            "  \"THE CLASSIFICATION PERFORMANCE OF RDA\" \n",
            "  Tech. Rep. no. 92-01, (1992), Dept. of Computer Science and Dept. of \n",
            "  Mathematics and Statistics, James Cook University of North Queensland. \n",
            "  (Also submitted to Journal of Chemometrics).\n",
            "\n"
          ],
          "name": "stdout"
        }
      ]
    },
    {
      "cell_type": "code",
      "metadata": {
        "id": "zsjM-Xs6qYO4",
        "colab_type": "code",
        "outputId": "f4182194-23ac-48ea-a0e8-9228bf950e29",
        "colab": {
          "base_uri": "https://localhost:8080/",
          "height": 34
        }
      },
      "source": [
        "X=wine.data\n",
        "y=wine.target\n"
      ],
      "execution_count": 0,
      "outputs": [
        {
          "output_type": "stream",
          "text": [
            "(178, 13)\n"
          ],
          "name": "stdout"
        }
      ]
    },
    {
      "cell_type": "code",
      "metadata": {
        "id": "gctRO6Axq3vE",
        "colab_type": "code",
        "outputId": "08c468f9-b618-43d0-f656-eef3193fe716",
        "colab": {
          "base_uri": "https://localhost:8080/",
          "height": 337
        }
      },
      "source": [
        "import seaborn as sns\n",
        "import matplotlib.pyplot as plt\n",
        "sns.boxplot(x=y,y=X[:,2])"
      ],
      "execution_count": 0,
      "outputs": [
        {
          "output_type": "stream",
          "text": [
            "/usr/local/lib/python3.6/dist-packages/statsmodels/tools/_testing.py:19: FutureWarning: pandas.util.testing is deprecated. Use the functions in the public API at pandas.testing instead.\n",
            "  import pandas.util.testing as tm\n"
          ],
          "name": "stderr"
        },
        {
          "output_type": "execute_result",
          "data": {
            "text/plain": [
              "<matplotlib.axes._subplots.AxesSubplot at 0x7f30ee1be1d0>"
            ]
          },
          "metadata": {
            "tags": []
          },
          "execution_count": 21
        },
        {
          "output_type": "display_data",
          "data": {
            "image/png": "[encoded data removed]",
            "text/plain": [
              "<Figure size 432x288 with 1 Axes>"
            ]
          },
          "metadata": {
            "tags": [],
            "needs_background": "light"
          }
        }
      ]
    },
    {
      "cell_type": "code",
      "metadata": {
        "id": "f50gu3wLqp_V",
        "colab_type": "code",
        "outputId": "597e1f0b-a491-4059-f882-fb9be39318d5",
        "colab": {
          "base_uri": "https://localhost:8080/",
          "height": 242
        }
      },
      "source": [
        "from sklearn.model_selection import train_test_split\n",
        "from sklearn.linear_model import LogisticRegression\n",
        "import numpy as np \n",
        "print(X[:,1])"
      ],
      "execution_count": 0,
      "outputs": [
        {
          "output_type": "stream",
          "text": [
            "[1.71 1.78 2.36 1.95 2.59 1.76 1.87 2.15 1.64 1.35 2.16 1.48 1.73 1.73\n",
            " 1.87 1.81 1.92 1.57 1.59 3.1  1.63 3.8  1.86 1.6  1.81 2.05 1.77 1.72\n",
            " 1.9  1.68 1.5  1.66 1.83 1.53 1.8  1.81 1.64 1.65 1.5  3.99 1.71 3.84\n",
            " 1.89 3.98 1.77 4.04 3.59 1.68 2.02 1.73 1.73 1.65 1.75 1.9  1.67 1.73\n",
            " 1.7  1.97 1.43 0.94 1.1  1.36 1.25 1.13 1.45 1.21 1.01 1.17 0.94 1.19\n",
            " 1.61 1.51 1.66 1.67 1.09 1.88 0.9  2.89 0.99 3.87 0.92 1.81 1.13 3.86\n",
            " 0.89 0.98 1.61 1.67 2.06 1.33 1.83 1.51 1.53 2.83 1.99 1.52 2.12 1.41\n",
            " 1.07 3.17 2.08 1.34 2.45 1.72 1.73 2.55 1.73 1.75 1.29 1.35 3.74 2.43\n",
            " 2.68 0.74 1.39 1.51 1.47 1.61 3.43 3.43 2.4  2.05 4.43 5.8  4.31 2.16\n",
            " 1.53 2.13 1.63 4.3  1.35 2.99 2.31 3.55 1.24 2.46 4.72 5.51 3.59 2.96\n",
            " 2.81 2.56 3.17 4.95 3.88 3.57 5.04 4.61 3.24 3.9  3.12 2.67 1.9  3.3\n",
            " 1.29 5.19 4.12 3.03 1.68 1.67 3.83 3.26 3.27 3.45 2.76 4.36 3.7  3.37\n",
            " 2.58 4.6  3.03 2.39 2.51 5.65 3.91 4.28 2.59 4.1 ]\n"
          ],
          "name": "stdout"
        }
      ]
    },
    {
      "cell_type": "code",
      "metadata": {
        "id": "0508cTChrqdX",
        "colab_type": "code",
        "outputId": "5e42d12d-7714-4d61-e7a8-0cd214d0f08a",
        "colab": {
          "base_uri": "https://localhost:8080/",
          "height": 593
        }
      },
      "source": [
        "plt.hist(X[:,1],edgecolor='black',bins=60)"
      ],
      "execution_count": 0,
      "outputs": [
        {
          "output_type": "execute_result",
          "data": {
            "text/plain": [
              "(array([ 1.,  2.,  5.,  2.,  4.,  4.,  4.,  7.,  4., 10., 13., 21., 11.,\n",
              "         9.,  3.,  5.,  5.,  0.,  1.,  3.,  4.,  5.,  1.,  2.,  2.,  1.,\n",
              "         2.,  3.,  3.,  2.,  2.,  3.,  1.,  4.,  0.,  2.,  4.,  4.,  2.,\n",
              "         2.,  1.,  1.,  3.,  1.,  0.,  2.,  0.,  1.,  0.,  1.,  1.,  0.,\n",
              "         1.,  0.,  0.,  0.,  1.,  0.,  1.,  1.]),\n",
              " array([0.74      , 0.82433333, 0.90866667, 0.993     , 1.07733333,\n",
              "        1.16166667, 1.246     , 1.33033333, 1.41466667, 1.499     ,\n",
              "        1.58333333, 1.66766667, 1.752     , 1.83633333, 1.92066667,\n",
              "        2.005     , 2.08933333, 2.17366667, 2.258     , 2.34233333,\n",
              "        2.42666667, 2.511     , 2.59533333, 2.67966667, 2.764     ,\n",
              "        2.84833333, 2.93266667, 3.017     , 3.10133333, 3.18566667,\n",
              "        3.27      , 3.35433333, 3.43866667, 3.523     , 3.60733333,\n",
              "        3.69166667, 3.776     , 3.86033333, 3.94466667, 4.029     ,\n",
              "        4.11333333, 4.19766667, 4.282     , 4.36633333, 4.45066667,\n",
              "        4.535     , 4.61933333, 4.70366667, 4.788     , 4.87233333,\n",
              "        4.95666667, 5.041     , 5.12533333, 5.20966667, 5.294     ,\n",
              "        5.37833333, 5.46266667, 5.547     , 5.63133333, 5.71566667,\n",
              "        5.8       ]),\n",
              " <a list of 60 Patch objects>)"
            ]
          },
          "metadata": {
            "tags": []
          },
          "execution_count": 35
        },
        {
          "output_type": "display_data",
          "data": {
            "image/png": "[encoded data removed]",
            "text/plain": [
              "<Figure size 432x288 with 1 Axes>"
            ]
          },
          "metadata": {
            "tags": [],
            "needs_background": "light"
          }
        }
      ]
    },
    {
      "cell_type": "code",
      "metadata": {
        "id": "p2QlBgYtsGtq",
        "colab_type": "code",
        "colab": {}
      },
      "source": [
        "plt.pie(X[:,1],y)"
      ],
      "execution_count": 0,
      "outputs": []
    },
    {
      "cell_type": "code",
      "metadata": {
        "id": "G9I79-q_t-2H",
        "colab_type": "code",
        "outputId": "3c0d78ca-fba8-444f-e5a5-41c62d99367e",
        "colab": {
          "base_uri": "https://localhost:8080/",
          "height": 34
        }
      },
      "source": [
        "target_name=wine.target_names\n",
        "print(target_name)"
      ],
      "execution_count": 0,
      "outputs": [
        {
          "output_type": "stream",
          "text": [
            "['class_0' 'class_1' 'class_2']\n"
          ],
          "name": "stdout"
        }
      ]
    },
    {
      "cell_type": "code",
      "metadata": {
        "id": "BV4poh1CuRdo",
        "colab_type": "code",
        "outputId": "a5368688-544c-4b0c-c2fd-82533f6cf473",
        "colab": {
          "base_uri": "https://localhost:8080/",
          "height": 54
        }
      },
      "source": [
        "names=[target_name[i] for i in y ]\n"
      ],
      "execution_count": 0,
      "outputs": [
        {
          "output_type": "stream",
          "text": [
            "['class_0', 'class_0', 'class_0', 'class_0', 'class_0', 'class_0', 'class_0', 'class_0', 'class_0', 'class_0', 'class_0', 'class_0', 'class_0', 'class_0', 'class_0', 'class_0', 'class_0', 'class_0', 'class_0', 'class_0', 'class_0', 'class_0', 'class_0', 'class_0', 'class_0', 'class_0', 'class_0', 'class_0', 'class_0', 'class_0', 'class_0', 'class_0', 'class_0', 'class_0', 'class_0', 'class_0', 'class_0', 'class_0', 'class_0', 'class_0', 'class_0', 'class_0', 'class_0', 'class_0', 'class_0', 'class_0', 'class_0', 'class_0', 'class_0', 'class_0', 'class_0', 'class_0', 'class_0', 'class_0', 'class_0', 'class_0', 'class_0', 'class_0', 'class_0', 'class_1', 'class_1', 'class_1', 'class_1', 'class_1', 'class_1', 'class_1', 'class_1', 'class_1', 'class_1', 'class_1', 'class_1', 'class_1', 'class_1', 'class_1', 'class_1', 'class_1', 'class_1', 'class_1', 'class_1', 'class_1', 'class_1', 'class_1', 'class_1', 'class_1', 'class_1', 'class_1', 'class_1', 'class_1', 'class_1', 'class_1', 'class_1', 'class_1', 'class_1', 'class_1', 'class_1', 'class_1', 'class_1', 'class_1', 'class_1', 'class_1', 'class_1', 'class_1', 'class_1', 'class_1', 'class_1', 'class_1', 'class_1', 'class_1', 'class_1', 'class_1', 'class_1', 'class_1', 'class_1', 'class_1', 'class_1', 'class_1', 'class_1', 'class_1', 'class_1', 'class_1', 'class_1', 'class_1', 'class_1', 'class_1', 'class_1', 'class_1', 'class_1', 'class_1', 'class_1', 'class_1', 'class_2', 'class_2', 'class_2', 'class_2', 'class_2', 'class_2', 'class_2', 'class_2', 'class_2', 'class_2', 'class_2', 'class_2', 'class_2', 'class_2', 'class_2', 'class_2', 'class_2', 'class_2', 'class_2', 'class_2', 'class_2', 'class_2', 'class_2', 'class_2', 'class_2', 'class_2', 'class_2', 'class_2', 'class_2', 'class_2', 'class_2', 'class_2', 'class_2', 'class_2', 'class_2', 'class_2', 'class_2', 'class_2', 'class_2', 'class_2', 'class_2', 'class_2', 'class_2', 'class_2', 'class_2', 'class_2', 'class_2', 'class_2']\n"
          ],
          "name": "stdout"
        }
      ]
    },
    {
      "cell_type": "code",
      "metadata": {
        "id": "kmTCR5d6ueCC",
        "colab_type": "code",
        "outputId": "993c1e99-8842-4b25-fc1e-c161e9eca24c",
        "colab": {
          "base_uri": "https://localhost:8080/",
          "height": 34
        }
      },
      "source": [
        "map(int,X[:,1])"
      ],
      "execution_count": 0,
      "outputs": [
        {
          "output_type": "execute_result",
          "data": {
            "text/plain": [
              "<map at 0x7f3c96735208>"
            ]
          },
          "metadata": {
            "tags": []
          },
          "execution_count": 48
        }
      ]
    },
    {
      "cell_type": "code",
      "metadata": {
        "id": "NNMOoNinuqDr",
        "colab_type": "code",
        "colab": {}
      },
      "source": [
        "X[:,1]=[int(i) for i in X[:,1]]"
      ],
      "execution_count": 0,
      "outputs": []
    },
    {
      "cell_type": "code",
      "metadata": {
        "id": "qVCb1dDVu9jX",
        "colab_type": "code",
        "colab": {}
      },
      "source": [
        "plt.pie(X[:,1],labels=names)"
      ],
      "execution_count": 0,
      "outputs": []
    },
    {
      "cell_type": "code",
      "metadata": {
        "id": "MF1TqZdAvKF7",
        "colab_type": "code",
        "colab": {}
      },
      "source": [
        "from sklearn.svm import SVC\n",
        "from sklearn.model_selection import train_test_split\n",
        "X_train,X_test,y_train,y_test=train_test_split(X,y,test_size=0.3)"
      ],
      "execution_count": 0,
      "outputs": []
    },
    {
      "cell_type": "code",
      "metadata": {
        "id": "89fE9VTFwDGB",
        "colab_type": "code",
        "outputId": "228f9487-bf9a-41dd-9cba-32bce202371c",
        "colab": {
          "base_uri": "https://localhost:8080/",
          "height": 121
        }
      },
      "source": [
        "kernel=['linear','rbf','poly']\n",
        "for i in kernel:\n",
        "  model=SVC(kernel=i,C=1.0)\n",
        "  model2=SVC(kernel= )\n",
        "  model.fit(X_train,y_train)\n",
        "  print('For kernel:',i)\n",
        "  print('Accuracy is :',model.score(X_test,y_test))"
      ],
      "execution_count": 0,
      "outputs": [
        {
          "output_type": "stream",
          "text": [
            "For kernel: linear\n",
            "Accuracy is : 0.9444444444444444\n",
            "For kernel: rbf\n",
            "Accuracy is : 0.7222222222222222\n",
            "For kernel: poly\n",
            "Accuracy is : 0.7222222222222222\n"
          ],
          "name": "stdout"
        }
      ]
    },
    {
      "cell_type": "code",
      "metadata": {
        "id": "MDBBVPi_POfX",
        "colab_type": "code",
        "colab": {}
      },
      "source": [
        "from sklearn.model_selection import GridSearchCV\n",
        "\n",
        "param_grid={'C':[0.1,1,100,1000],'kernel':['rbf','poly','sigmoid','linear'],'degree':[1,2,3,4,5,6]}\n",
        "grid=GridSearchCV(SVC(),param_grid,refit=True,verbose=3,cv=3)\n",
        "grid.fit(X_train,y_train)"
      ],
      "execution_count": 0,
      "outputs": []
    },
    {
      "cell_type": "code",
      "metadata": {
        "id": "AtYn7ut6Ro6C",
        "colab_type": "code",
        "outputId": "3fb68d3c-d27b-4ae8-d546-f030c1acfeb9",
        "colab": {
          "base_uri": "https://localhost:8080/",
          "height": 52
        }
      },
      "source": [
        "print(grid.best_params_)\n",
        "print(grid.score(X_test,y_test))"
      ],
      "execution_count": 0,
      "outputs": [
        {
          "output_type": "stream",
          "text": [
            "{'C': 0.1, 'degree': 1, 'kernel': 'linear'}\n",
            "0.9629629629629629\n"
          ],
          "name": "stdout"
        }
      ]
    },
    {
      "cell_type": "code",
      "metadata": {
        "id": "LAH70WhHxrut",
        "colab_type": "code",
        "outputId": "026f08b0-c681-4b9e-8a7d-80959da4de51",
        "colab": {
          "base_uri": "https://localhost:8080/",
          "height": 34
        }
      },
      "source": [
        "model=SVC(kernel='linear',degree=20,C=0.1)\n",
        "model.fit(X_train,y_train)\n",
        "model.score(X_test,y_test)"
      ],
      "execution_count": 0,
      "outputs": [
        {
          "output_type": "execute_result",
          "data": {
            "text/plain": [
              "0.9629629629629629"
            ]
          },
          "metadata": {
            "tags": []
          },
          "execution_count": 15
        }
      ]
    },
    {
      "cell_type": "code",
      "metadata": {
        "id": "1SMWUM5tyxgN",
        "colab_type": "code",
        "outputId": "f53ac6d2-0e77-45d9-9514-0cf59aa4ab7d",
        "colab": {
          "base_uri": "https://localhost:8080/",
          "height": 173
        }
      },
      "source": [
        "for i in range(1,10):\n",
        "  model=SVC(kernel='poly',degree=i,C=100000000)\n",
        "  model.fit(X_train,y_train)\n",
        "  print(model.score(X_test,y_test))"
      ],
      "execution_count": 0,
      "outputs": [
        {
          "output_type": "stream",
          "text": [
            "0.9444444444444444\n",
            "0.9629629629629629\n",
            "0.9814814814814815\n",
            "0.9444444444444444\n",
            "0.9629629629629629\n",
            "0.9629629629629629\n",
            "0.9444444444444444\n",
            "0.9259259259259259\n",
            "0.9259259259259259\n"
          ],
          "name": "stdout"
        }
      ]
    },
    {
      "cell_type": "code",
      "metadata": {
        "id": "JkHx_Lc89jib",
        "colab_type": "code",
        "colab": {}
      },
      "source": [
        "C=100\n",
        "from sklearn.svm import LinearSVC\n",
        "import numpy as np\n",
        "svc = SVC(kernel='linear', C=C).fit(np.c_[X_train[:,0],X_train[:,1]], y_train)\n",
        "rbf_svc = SVC(kernel='rbf', gamma=0.7, C=C).fit(np.c_[X_train[:,0],X_train[:,1]], y_train)\n",
        "poly_svc =SVC(kernel='poly', degree=3, C=C).fit(np.c_[X_train[:,0],X_train[:,1]], y_train)\n",
        "lin_svc = LinearSVC(C=0.1).fit(np.c_[X_train[:,0],X_train[:,1]], y_train)"
      ],
      "execution_count": 0,
      "outputs": []
    },
    {
      "cell_type": "code",
      "metadata": {
        "id": "o8BZM0169BBB",
        "colab_type": "code",
        "colab": {}
      },
      "source": [
        "h=0.2\n",
        "x_min, x_max = X[:, 0].min() - 1, X[:, 0].max() + 1\n",
        "y_min, y_max = X[:, 1].min() - 1, X[:, 1].max() + 1\n",
        "xx, yy = np.meshgrid(np.arange(x_min, x_max, h),\n",
        "                     np.arange(y_min, y_max, h))"
      ],
      "execution_count": 0,
      "outputs": []
    },
    {
      "cell_type": "code",
      "metadata": {
        "id": "ytM8R_15972E",
        "colab_type": "code",
        "outputId": "5ccf6548-b988-4022-960f-790548726226",
        "colab": {
          "base_uri": "https://localhost:8080/",
          "height": 278
        }
      },
      "source": [
        "titles = ['SVC with linear kernel',\n",
        "         \n",
        "          'SVC with RBF kernel',\n",
        "          'SVC with polynomial (degree 3) kernel']\n",
        "\n",
        "for i, clf in enumerate((svc, rbf_svc, poly_svc)):\n",
        "    # Plot the decision boundary. For that, we will assign a color to each\n",
        "    # point in the mesh [x_min, x_max]x[y_min, y_max].\n",
        "    plt.subplot(2, 2, i + 1)\n",
        "    plt.subplots_adjust(wspace=0.4, hspace=0.4)\n",
        "\n",
        "    Z = clf.predict(np.c_[xx.ravel(), yy.ravel()])\n",
        "\n",
        "    # Put the result into a color plot\n",
        "    Z = Z.reshape(xx.shape)\n",
        "    plt.contourf(xx, yy, Z, cmap=plt.cm.coolwarm, alpha=0.8)\n",
        "\n",
        "    # Plot also the training points\n",
        "    plt.scatter(X[:, 0], X[:, 1], c=y, cmap=plt.cm.coolwarm)\n",
        "    plt.xlabel('Sepal length')\n",
        "    plt.ylabel('Sepal width')\n",
        "    plt.xlim(xx.min(), xx.max())\n",
        "    plt.ylim(yy.min(), yy.max())\n",
        "    plt.xticks(())\n",
        "    plt.yticks(())\n",
        "    plt.title(titles[i])\n",
        "\n",
        "plt.show()"
      ],
      "execution_count": 0,
      "outputs": [
        {
          "output_type": "display_data",
          "data": {
            "image/png": "[encoded data removed]",
            "text/plain": [
              "<Figure size 432x288 with 3 Axes>"
            ]
          },
          "metadata": {
            "tags": []
          }
        }
      ]
    },
    {
      "cell_type": "code",
      "metadata": {
        "id": "IRw-F-S9_kou",
        "colab_type": "code",
        "outputId": "2e32c543-670d-48ac-84a5-ed852c436ad6",
        "colab": {
          "base_uri": "https://localhost:8080/",
          "height": 138
        }
      },
      "source": [
        "np.c_[xx.ravel(), yy.ravel()]"
      ],
      "execution_count": 0,
      "outputs": [
        {
          "output_type": "execute_result",
          "data": {
            "text/plain": [
              "array([[10.03, -1.  ],\n",
              "       [10.23, -1.  ],\n",
              "       [10.43, -1.  ],\n",
              "       ...,\n",
              "       [15.43,  5.8 ],\n",
              "       [15.63,  5.8 ],\n",
              "       [15.83,  5.8 ]])"
            ]
          },
          "metadata": {
            "tags": []
          },
          "execution_count": 95
        }
      ]
    },
    {
      "cell_type": "code",
      "metadata": {
        "id": "wzHRZOj1-DoZ",
        "colab_type": "code",
        "colab": {}
      },
      "source": [
        "ored"
      ],
      "execution_count": 0,
      "outputs": []
    }
  ]
}